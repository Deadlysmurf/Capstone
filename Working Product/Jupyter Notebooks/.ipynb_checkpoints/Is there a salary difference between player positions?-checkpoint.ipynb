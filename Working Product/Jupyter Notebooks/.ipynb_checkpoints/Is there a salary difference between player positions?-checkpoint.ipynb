{
 "cells": [
  {
   "cell_type": "markdown",
   "metadata": {},
   "source": [
    "# Is there a salary difference between player position? "
   ]
  },
  {
   "cell_type": "markdown",
   "metadata": {},
   "source": [
    "## Import the required packages, data, and clean the data"
   ]
  },
  {
   "cell_type": "code",
   "execution_count": 27,
   "metadata": {
    "collapsed": false
   },
   "outputs": [],
   "source": [
    "exec(open(\"../Scripts/Packages.py\").read())\n",
    "exec(open(\"../Scripts/Data_Import.py\").read())\n",
    "exec(open(\"../Scripts/Data_Cleaning.py\").read())"
   ]
  },
  {
   "cell_type": "markdown",
   "metadata": {},
   "source": [
    "Data organization for this research question"
   ]
  },
  {
   "cell_type": "code",
   "execution_count": 28,
   "metadata": {
    "collapsed": false
   },
   "outputs": [],
   "source": [
    "Position_Analysis = Salary_Analysis.loc[:, ['salary', 'G_p','G_c','G_1b','G_2b','G_3b','G_ss','G_lf','G_cf','G_rf', 'G_dh'] ]\n",
    "\n",
    "# Function which tells the dataframe if the value is 0, then they never played that position\n",
    "def Binary(s):\n",
    "    if s == 0:\n",
    "        return 0\n",
    "    else: \n",
    "        return 1\n",
    "    \n",
    "# Apply to the whole dataframe\n",
    "Binary_Position = Position_Analysis.applymap(Binary)  \n",
    "\n",
    "#Bring back in the correct salary values\n",
    "Binary_Position['salary'] = Position_Analysis['salary']/1000000\n",
    "\n",
    "#Melt to make long form data\n",
    "Binary_List = pd.melt(Binary_Position, id_vars=['salary'], value_vars=['G_p','G_c','G_1b','G_2b','G_3b','G_ss','G_lf','G_cf','G_rf', 'G_dh'], var_name='Position', value_name='Count')\n",
    "\n",
    "#Elimiate the positions not played\n",
    "Player_Position = Binary_List.loc[Binary_List['Count'] == 1]\n",
    "\n",
    "#Cleanup\n",
    "Player_Position = Player_Position.drop(['Count'], axis=1)\n",
    "\n",
    "#Pivot for Analysis\n",
    "Pivot = Player_Position.pivot(columns='Position', values='salary')"
   ]
  },
  {
   "cell_type": "markdown",
   "metadata": {},
   "source": [
    "## Manually examine the differences in the group"
   ]
  },
  {
   "cell_type": "code",
   "execution_count": 29,
   "metadata": {
    "collapsed": false
   },
   "outputs": [
    {
     "data": {
      "image/png": "[encoded data removed]",
      "text/plain": [
       "<matplotlib.figure.Figure at 0x11402aac8>"
      ]
     },
     "metadata": {},
     "output_type": "display_data"
    }
   ],
   "source": [
    "Player_Position.boxplot(by = 'Position', rot=90)\n",
    "plt.title('Salary by Position')\n",
    "plt.xlabel('Position')\n",
    "plt.ylabel('Salary ($M USD)')\n",
    "plt.show()"
   ]
  },
  {
   "cell_type": "markdown",
   "metadata": {},
   "source": [
    "## Use statistical testing to confirm the variance"
   ]
  },
  {
   "cell_type": "markdown",
   "metadata": {},
   "source": [
    "Set the significance value before any testing. "
   ]
  },
  {
   "cell_type": "code",
   "execution_count": 30,
   "metadata": {
    "collapsed": true
   },
   "outputs": [],
   "source": [
    "alpha_value = 0.001\n",
    "independent = True"
   ]
  },
  {
   "cell_type": "markdown",
   "metadata": {},
   "source": [
    "Combined Statistical Testing Workflow"
   ]
  },
  {
   "cell_type": "code",
   "execution_count": 31,
   "metadata": {
    "collapsed": false
   },
   "outputs": [
    {
     "name": "stdout",
     "output_type": "stream",
     "text": [
      "Comparing Standard Deviations\n",
      "\n",
      "T-statistic: 31258.3461113\n",
      "P-Value: 0.0\n",
      "  \n",
      "Reject NULL hypothesis - Significant differences exist between the standard deviations of the groups.\n",
      "\n",
      "\n",
      "Checking for Normality\n",
      "\n",
      "P-value: 2.0491561898e-17\n",
      "  \n",
      "Reject NULL hypothesis - Not normal distribution\n",
      "\n",
      "\n",
      "ANOVA Testing\n",
      "\n",
      "Can one use ANOVA?\n",
      "  \n",
      "Independent:  True\n",
      "Normal:  False\n",
      "StdDevEq:  False\n",
      "  \n",
      "The assumptions to use ANOVA have not been met.\n",
      "\n",
      "Kruskal-Wallis Testing\n",
      "\n",
      "H-statistic: 648.330310994\n",
      "P-Value: 8.78212303598e-134\n",
      "\n",
      "Reject NULL hypothesis - Significant differences exist between groups.\n"
     ]
    }
   ],
   "source": [
    "exec(open(\"../Scripts/Data_Testing/Statistical_Tests.py\").read())"
   ]
  }
 ],
 "metadata": {
  "kernelspec": {
   "display_name": "Python 3",
   "language": "python",
   "name": "python3"
  },
  "language_info": {
   "codemirror_mode": {
    "name": "ipython",
    "version": 3
   },
   "file_extension": ".py",
   "mimetype": "text/x-python",
   "name": "python",
   "nbconvert_exporter": "python",
   "pygments_lexer": "ipython3",
   "version": "3.5.2"
  }
 },
 "nbformat": 4,
 "nbformat_minor": 1
}
