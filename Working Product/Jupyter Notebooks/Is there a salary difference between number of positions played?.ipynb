{
 "cells": [
  {
   "cell_type": "markdown",
   "metadata": {},
   "source": [
    "# Is there a salary difference between number of positions played? "
   ]
  },
  {
   "cell_type": "markdown",
   "metadata": {},
   "source": [
    "## Import the required packages, data, and clean the data"
   ]
  },
  {
   "cell_type": "code",
   "execution_count": 35,
   "metadata": {
    "collapsed": false
   },
   "outputs": [],
   "source": [
    "exec(open(\"../Scripts/Packages.py\").read())\n",
    "exec(open(\"../Scripts/Data_Import.py\").read())\n",
    "exec(open(\"../Scripts/Data_Cleaning.py\").read())"
   ]
  },
  {
   "cell_type": "markdown",
   "metadata": {},
   "source": [
    "Data organization for this research question"
   ]
  },
  {
   "cell_type": "code",
   "execution_count": 36,
   "metadata": {
    "collapsed": false
   },
   "outputs": [],
   "source": [
    "Position_Analysis = Salary_Analysis.loc[:, ['salary', 'G_p','G_c','G_1b','G_2b','G_3b','G_ss','G_lf','G_cf','G_rf', 'G_dh'] ]\n",
    "\n",
    "# Function which tells the dataframe if the value is 0, then they never played that position\n",
    "def Binary(s):\n",
    "    if s == 0:\n",
    "        return 0\n",
    "    else: \n",
    "        return 1\n",
    "    \n",
    "# Apply to the whole dataframe\n",
    "Binary_Position = Position_Analysis.applymap(Binary)  \n",
    "\n",
    "#Add a column to count the positions\n",
    "Binary_Position['NumPos'] = Binary_Position.sum(axis=1) - 1\n",
    "\n",
    "#Bring back in the correct salary values\n",
    "Binary_Position['salary'] = Position_Analysis['salary']/1000000\n",
    "\n",
    "#Cleanup\n",
    "Player_Position = Binary_Position.loc[:,['salary','NumPos']]\n",
    "\n",
    "#Pivot for Analysis\n",
    "Pivot = Binary_Position.pivot(columns='NumPos', values='salary')"
   ]
  },
  {
   "cell_type": "markdown",
   "metadata": {},
   "source": [
    "## Manually examine the differences in the group"
   ]
  },
  {
   "cell_type": "code",
   "execution_count": 37,
   "metadata": {
    "collapsed": false
   },
   "outputs": [
    {
     "data": {
      "image/png": "[encoded data removed]",
      "text/plain": [
       "<matplotlib.figure.Figure at 0x10bc1d160>"
      ]
     },
     "metadata": {},
     "output_type": "display_data"
    }
   ],
   "source": [
    "Player_Position.boxplot(by = 'NumPos', rot=90)\n",
    "plt.title('Salary by Number of Positions Played')\n",
    "plt.xlabel('Number of Positions Played')\n",
    "plt.ylabel('Salary ($M USD)')\n",
    "plt.show()"
   ]
  },
  {
   "cell_type": "markdown",
   "metadata": {},
   "source": [
    "## Use statistical testing to confirm the variance"
   ]
  },
  {
   "cell_type": "markdown",
   "metadata": {},
   "source": [
    "Set the significance value before any testing. "
   ]
  },
  {
   "cell_type": "code",
   "execution_count": 38,
   "metadata": {
    "collapsed": true
   },
   "outputs": [],
   "source": [
    "alpha_value = 0.001\n",
    "independent = True"
   ]
  },
  {
   "cell_type": "markdown",
   "metadata": {},
   "source": [
    "Combined Statistical Testing Workflow"
   ]
  },
  {
   "cell_type": "code",
   "execution_count": 39,
   "metadata": {
    "collapsed": false
   },
   "outputs": [
    {
     "name": "stdout",
     "output_type": "stream",
     "text": [
      "Comparing Standard Deviations\n",
      "\n",
      "T-statistic: 236054.507181\n",
      "P-Value: 0.0\n",
      "  \n",
      "Reject NULL hypothesis - Significant differences exist between the standard deviations of the groups.\n",
      "\n",
      "\n",
      "Checking for Normality\n",
      "\n",
      "P-value: 2.60606364293e-12\n",
      "  \n",
      "Reject NULL hypothesis - Not normal distribution\n",
      "\n",
      "\n",
      "ANOVA Testing\n",
      "\n",
      "Can one use ANOVA?\n",
      "  \n",
      "Independent:  True\n",
      "Normal:  False\n",
      "StdDevEq:  False\n",
      "  \n",
      "The assumptions to use ANOVA have not been met.\n",
      "\n",
      "Kruskal-Wallis Testing\n",
      "\n",
      "H-statistic: 642.094832692\n",
      "P-Value: 1.66867559906e-131\n",
      "\n",
      "Reject NULL hypothesis - Significant differences exist between groups.\n"
     ]
    }
   ],
   "source": [
    "exec(open(\"../Scripts/Data_Testing/Statistical_Tests.py\").read())"
   ]
  }
 ],
 "metadata": {
  "kernelspec": {
   "display_name": "Python 3",
   "language": "python",
   "name": "python3"
  },
  "language_info": {
   "codemirror_mode": {
    "name": "ipython",
    "version": 3
   },
   "file_extension": ".py",
   "mimetype": "text/x-python",
   "name": "python",
   "nbconvert_exporter": "python",
   "pygments_lexer": "ipython3",
   "version": "3.5.2"
  }
 },
 "nbformat": 4,
 "nbformat_minor": 1
}
