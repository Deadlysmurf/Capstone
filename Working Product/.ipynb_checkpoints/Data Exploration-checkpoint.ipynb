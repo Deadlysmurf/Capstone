{
 "cells": [
  {
   "cell_type": "markdown",
   "metadata": {},
   "source": [
    "# Data Exploration"
   ]
  },
  {
   "cell_type": "code",
   "execution_count": 2,
   "metadata": {
    "collapsed": false
   },
   "outputs": [],
   "source": [
    "import requests\n",
    "import pandas as pd\n",
    "import matplotlib.pyplot as plt\n",
    "import numpy as np"
   ]
  },
  {
   "cell_type": "code",
   "execution_count": 3,
   "metadata": {
    "collapsed": true
   },
   "outputs": [],
   "source": [
    "AllstarFull = pd.read_csv(\"http://raw.githubusercontent.com/chadwickbureau/baseballdatabank/master/core/AllstarFull.csv\")\n",
    "Appearances = pd.read_csv(\"http://raw.githubusercontent.com/chadwickbureau/baseballdatabank/master/core/Appearances.csv\")\n",
    "AwardsManagers = pd.read_csv(\"http://raw.githubusercontent.com/chadwickbureau/baseballdatabank/master/core/AwardsManagers.csv\")\n",
    "AwardsPlayers = pd.read_csv(\"http://raw.githubusercontent.com/chadwickbureau/baseballdatabank/master/core/AwardsPlayers.csv\")\n",
    "AwardsShareManagers = pd.read_csv(\"http://raw.githubusercontent.com/chadwickbureau/baseballdatabank/master/core/AwardsShareManagers.csv\")\n",
    "AwardsSharePlayers = pd.read_csv(\"http://raw.githubusercontent.com/chadwickbureau/baseballdatabank/master/core/AwardsSharePlayers.csv\")\n",
    "Batting = pd.read_csv(\"http://raw.githubusercontent.com/chadwickbureau/baseballdatabank/master/core/Batting.csv\")\n",
    "BattingPost = pd.read_csv(\"http://raw.githubusercontent.com/chadwickbureau/baseballdatabank/master/core/BattingPost.csv\")\n",
    "CollegePlaying = pd.read_csv(\"http://raw.githubusercontent.com/chadwickbureau/baseballdatabank/master/core/CollegePlaying.csv\")\n",
    "Fielding = pd.read_csv(\"http://raw.githubusercontent.com/chadwickbureau/baseballdatabank/master/core/Fielding.csv\")\n",
    "FieldingOF = pd.read_csv(\"http://raw.githubusercontent.com/chadwickbureau/baseballdatabank/master/core/FieldingOF.csv\")\n",
    "FieldingOFsplit = pd.read_csv(\"http://raw.githubusercontent.com/chadwickbureau/baseballdatabank/master/core/FieldingOFsplit.csv\")\n",
    "FieldingPost = pd.read_csv(\"http://raw.githubusercontent.com/chadwickbureau/baseballdatabank/master/core/FieldingPost.csv\")\n",
    "HallOfFame = pd.read_csv(\"http://raw.githubusercontent.com/chadwickbureau/baseballdatabank/master/core/HallOfFame.csv\")\n",
    "HomeGames = pd.read_csv(\"http://raw.githubusercontent.com/chadwickbureau/baseballdatabank/master/core/HomeGames.csv\")\n",
    "Managers = pd.read_csv(\"http://raw.githubusercontent.com/chadwickbureau/baseballdatabank/master/core/Managers.csv\")\n",
    "ManagersHalf = pd.read_csv(\"http://raw.githubusercontent.com/chadwickbureau/baseballdatabank/master/core/ManagersHalf.csv\")\n",
    "Master = pd.read_csv(\"http://raw.githubusercontent.com/chadwickbureau/baseballdatabank/master/core/Master.csv\")\n",
    "Parks = pd.read_csv(\"http://raw.githubusercontent.com/chadwickbureau/baseballdatabank/master/core/Parks.csv\")\n",
    "Pitching = pd.read_csv(\"http://raw.githubusercontent.com/chadwickbureau/baseballdatabank/master/core/Pitching.csv\")\n",
    "PitchingPost = pd.read_csv(\"http://raw.githubusercontent.com/chadwickbureau/baseballdatabank/master/core/PitchingPost.csv\")\n",
    "Salaries = pd.read_csv(\"http://raw.githubusercontent.com/chadwickbureau/baseballdatabank/master/core/Salaries.csv\")\n",
    "Schools = pd.read_csv(\"http://raw.githubusercontent.com/chadwickbureau/baseballdatabank/master/core/Schools.csv\")\n",
    "SeriesPost = pd.read_csv(\"http://raw.githubusercontent.com/chadwickbureau/baseballdatabank/master/core/SeriesPost.csv\")\n",
    "Teams = pd.read_csv(\"http://raw.githubusercontent.com/chadwickbureau/baseballdatabank/master/core/Teams.csv\")\n",
    "TeamsFranchises = pd.read_csv(\"http://raw.githubusercontent.com/chadwickbureau/baseballdatabank/master/core/TeamsFranchises.csv\")\n",
    "TeamsHalf = pd.read_csv(\"http://raw.githubusercontent.com/chadwickbureau/baseballdatabank/master/core/TeamsHalf.csv\")\n"
   ]
  },
  {
   "cell_type": "markdown",
   "metadata": {},
   "source": [
    "#Varience in the years\n",
    "The first stage of this analysis is how far back salaries appear to be comparable. It apparently that there will have been inflation since the 1985 season, but there may also be changes due to collective bargaining agreements, luxury taxes, the avalible pool of players, and the introduction of sabermetric decision making in contracts. "
   ]
  },
  {
   "cell_type": "code",
   "execution_count": 7,
   "metadata": {
    "collapsed": false
   },
   "outputs": [
    {
     "ename": "AttributeError",
     "evalue": "module 'matplotlib' has no attribute 'show'",
     "output_type": "error",
     "traceback": [
      "\u001b[0;31m---------------------------------------------------------------------------\u001b[0m",
      "\u001b[0;31mAttributeError\u001b[0m                            Traceback (most recent call last)",
      "\u001b[0;32m<ipython-input-7-3590618a712a>\u001b[0m in \u001b[0;36m<module>\u001b[0;34m()\u001b[0m\n\u001b[1;32m      1\u001b[0m \u001b[0mSalaries\u001b[0m\u001b[0;34m.\u001b[0m\u001b[0mboxplot\u001b[0m\u001b[0;34m(\u001b[0m\u001b[0mby\u001b[0m\u001b[0;34m=\u001b[0m\u001b[0;34m'yearID'\u001b[0m\u001b[0;34m)\u001b[0m\u001b[0;34m\u001b[0m\u001b[0m\n\u001b[0;32m----> 2\u001b[0;31m \u001b[0mplt\u001b[0m\u001b[0;34m.\u001b[0m\u001b[0mshow\u001b[0m\u001b[0;34m\u001b[0m\u001b[0m\n\u001b[0m",
      "\u001b[0;31mAttributeError\u001b[0m: module 'matplotlib' has no attribute 'show'"
     ]
    }
   ],
   "source": [
    "Salaries.boxplot(by = 'yearID')\n",
    "plt.show()"
   ]
  },
  {
   "cell_type": "code",
   "execution_count": null,
   "metadata": {
    "collapsed": true
   },
   "outputs": [],
   "source": [
    "Salaries_YearID = Salaries.groupby('yearID')\n",
    "# Salaries_YearID.describe() <- Too much data\n",
    "Salaries_Stats = Salaries_YearID.agg([np.mean, np.std])\n",
    "Salaries_Stats.Plot()\n",
    "plt.show()"
   ]
  }
 ],
 "metadata": {
  "kernelspec": {
   "display_name": "Python 3",
   "language": "python",
   "name": "python3"
  },
  "language_info": {
   "codemirror_mode": {
    "name": "ipython",
    "version": 3
   },
   "file_extension": ".py",
   "mimetype": "text/x-python",
   "name": "python",
   "nbconvert_exporter": "python",
   "pygments_lexer": "ipython3",
   "version": "3.5.2"
  }
 },
 "nbformat": 4,
 "nbformat_minor": 1
}
