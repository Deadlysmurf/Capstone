{
 "cells": [
  {
   "cell_type": "code",
   "execution_count": 119,
   "metadata": {
    "collapsed": true
   },
   "outputs": [],
   "source": [
    "exec(open(\"../Scripts/Packages.py\").read())\n",
    "exec(open(\"../Scripts/Data_Import.py\").read())"
   ]
  },
  {
   "cell_type": "code",
   "execution_count": 120,
   "metadata": {
    "collapsed": false
   },
   "outputs": [],
   "source": [
    "\n",
    "#Added, Age, Years Played, Country of Birth, First and Last Names, Weight, Height, Bat Hand, Throwing Hand\n",
    "\n",
    "Trim_Master = Master[['playerID','birthYear', 'birthCountry', 'nameFirst','nameLast', 'weight','height','bats','throws','debut']]\n",
    "Data = Salaries.merge(Trim_Master,how='left', left_on='playerID', right_on='playerID')\n",
    "Data['age'] = Data['yearID'] - Data['birthYear']\n",
    "Data['debut'] = pd.to_datetime(Data['debut'])\n",
    "Data['debutYear'] = pd.DatetimeIndex(Data['debut']).year\n",
    "Data['yearsPlayed'] = Data['yearID'] - Data['debutYear']\n",
    "Data = Data.drop(['birthYear', 'debut', 'debutYear'], axis=1)\n",
    "\n",
    "#Adding in the appearance chart\n",
    "Data = pd.merge(Data, Appearances,  how='left', left_on=['yearID','teamID', 'playerID', 'lgID'], right_on = ['yearID','teamID','playerID','lgID'])\n",
    "Data = Data.drop(['G_batting', 'G_defense'], axis=1)\n",
    "\n",
    "\n",
    "#Remove the pitchers and catchers\n",
    "Data = Data[Data[\"G_p\"] == 0]\n",
    "Data = Data[Data[\"G_c\"] == 0]\n",
    "Data = Data.drop([\"G_p\", \"G_c\"], axis=1)\n",
    "\n",
    "#Add fielding stats\n",
    "Data = pd.merge(Data, Fielding,  how='left', left_on=['yearID','teamID', 'playerID', 'lgID'], right_on = ['yearID','teamID','playerID','lgID'])\n",
    "Data = Data.drop(['stint', 'POS', 'PB', 'WP', 'SB', 'CS', 'ZR', 'GS_y'], axis=1)\n",
    "\n",
    "#Converting to the stats to per game\n",
    "Data['Games'] = Data['InnOuts']/3/9 \n",
    "Data[['POg','Ag', 'Eg', 'DPg']] = Data[['PO','A', 'E', 'DP']].divide(Data.Games, axis=0).fillna(0)\n",
    "Data = Data.drop(['InnOuts', 'PO','A', 'E', 'DP'], axis=1)\n",
    "\n",
    "\n",
    "#Add Batting stats\n",
    "Data = pd.merge(Data, Batting,  how='left', left_on=['yearID','teamID', 'playerID', 'lgID'], right_on = ['yearID','teamID','playerID','lgID'])\n",
    "Data = Data.drop(['stint', 'G_y'], axis=1)\n",
    "\n",
    "#Adding Calc Stats\n",
    "Data['1B'] = Data['H'].subtract(Data['2B'].subtract(Data['3B'].subtract(Data['HR'])))\n",
    "Data['SLG'] = (Data['1B'].add(Data['2B']*2).add(Data['3B']*3).add(Data['HR']*4)).divide(Data['AB'])\n",
    "Data['OBP'] = (Data['H']+Data['BB']+Data['HBP'])/(Data['AB']+Data['BB']+Data['HBP']+Data['SF'])\n",
    "Data['OPS'] = Data['SLG'] + Data['OBP']\n",
    "\n",
    "\n",
    "#Converting to the stats per at Bat\n",
    "Data[['R', 'H', '2B', '3B', 'HR', 'RBI', 'SB','CS', 'BB', 'SO', 'IBB', 'HBP', 'SH', 'SF', 'GIDP']] = Data[['R', 'H', '2B', '3B', 'HR', 'RBI', 'SB','CS', 'BB', 'SO', 'IBB', 'HBP', 'SH', 'SF', 'GIDP']].divide(Data.AB, axis=0).fillna(0)\n",
    "\n",
    "\n",
    "#Remove infs and Nans\n",
    "Data = Data.replace(np.inf, np.nan)\n",
    "Data = Data.replace(np.nan, 0)\n"
   ]
  },
  {
   "cell_type": "code",
   "execution_count": 121,
   "metadata": {
    "collapsed": false
   },
   "outputs": [
    {
     "name": "stdout",
     "output_type": "stream",
     "text": [
      "0        0.306878\n",
      "1        0.327172\n",
      "2        0.333333\n",
      "3        0.333333\n",
      "4        0.320792\n",
      "5        0.387640\n",
      "6        0.358811\n",
      "7        0.358811\n",
      "8        0.282443\n",
      "9        0.282443\n",
      "10       0.271501\n",
      "11       0.342404\n",
      "12       0.275109\n",
      "13       0.275109\n",
      "14       0.275109\n",
      "15       0.352941\n",
      "16       0.256098\n",
      "17       0.368821\n",
      "18       0.368821\n",
      "19       0.343228\n",
      "20       0.338583\n",
      "21       0.382570\n",
      "22       0.346797\n",
      "23       0.341912\n",
      "24       0.323120\n",
      "25       0.323120\n",
      "26       0.306604\n",
      "27       0.306604\n",
      "28       0.347913\n",
      "29       0.297561\n",
      "           ...   \n",
      "17743    0.318290\n",
      "17744    0.318290\n",
      "17745    0.318290\n",
      "17746    0.314103\n",
      "17747    0.291262\n",
      "17748    0.322476\n",
      "17749    0.305556\n",
      "17750    0.298780\n",
      "17751    0.333333\n",
      "17752    0.333333\n",
      "17753    0.333333\n",
      "17754    0.314815\n",
      "17755    0.289764\n",
      "17756    0.374576\n",
      "17757    0.310513\n",
      "17758    0.310513\n",
      "17759    0.310513\n",
      "17760    0.310513\n",
      "17761    0.310513\n",
      "17762    0.460245\n",
      "17763    0.250000\n",
      "17764    0.343662\n",
      "17765    0.343662\n",
      "17766    0.364964\n",
      "17767    0.282353\n",
      "17768    0.297872\n",
      "17769    0.297872\n",
      "17770    0.301587\n",
      "17771    0.307692\n",
      "17772    0.307692\n",
      "Name: OBP, dtype: float64\n"
     ]
    }
   ],
   "source": []
  },
  {
   "cell_type": "code",
   "execution_count": 122,
   "metadata": {
    "collapsed": false
   },
   "outputs": [
    {
     "data": {
      "text/plain": [
       "yearID               1993\n",
       "teamID                BAL\n",
       "lgID                   AL\n",
       "playerID        alexama02\n",
       "salary             109000\n",
       "birthCountry         D.R.\n",
       "nameFirst           Manny\n",
       "nameLast        Alexander\n",
       "weight                150\n",
       "height                 70\n",
       "bats                    R\n",
       "throws                  R\n",
       "age                    22\n",
       "yearsPlayed             1\n",
       "G_all                   3\n",
       "GS_x                    0\n",
       "G_1b                    0\n",
       "G_2b                    0\n",
       "G_3b                    0\n",
       "G_ss                    0\n",
       "G_lf                    0\n",
       "G_cf                    0\n",
       "G_rf                    0\n",
       "G_of                    0\n",
       "G_dh                    1\n",
       "G_ph                    0\n",
       "G_pr                    3\n",
       "G_x                     0\n",
       "Games                   0\n",
       "POg                     0\n",
       "Ag                      0\n",
       "Eg                      0\n",
       "DPg                     0\n",
       "AB                      0\n",
       "R                       0\n",
       "H                       0\n",
       "2B                      0\n",
       "3B                      0\n",
       "HR                      0\n",
       "RBI                     0\n",
       "SB                      0\n",
       "CS                      0\n",
       "BB                      0\n",
       "SO                      0\n",
       "IBB                     0\n",
       "HBP                     0\n",
       "SH                      0\n",
       "SF                      0\n",
       "GIDP                    0\n",
       "1B                      0\n",
       "SLG                     0\n",
       "OBP                     0\n",
       "OPS                     0\n",
       "Name: 3974, dtype: object"
      ]
     },
     "execution_count": 122,
     "metadata": {},
     "output_type": "execute_result"
    }
   ],
   "source": [
    "Data.ix[3974]"
   ]
  },
  {
   "cell_type": "code",
   "execution_count": null,
   "metadata": {
    "collapsed": true
   },
   "outputs": [],
   "source": []
  }
 ],
 "metadata": {
  "kernelspec": {
   "display_name": "Python 3",
   "language": "python",
   "name": "python3"
  },
  "language_info": {
   "codemirror_mode": {
    "name": "ipython",
    "version": 3
   },
   "file_extension": ".py",
   "mimetype": "text/x-python",
   "name": "python",
   "nbconvert_exporter": "python",
   "pygments_lexer": "ipython3",
   "version": "3.6.0"
  }
 },
 "nbformat": 4,
 "nbformat_minor": 2
}
