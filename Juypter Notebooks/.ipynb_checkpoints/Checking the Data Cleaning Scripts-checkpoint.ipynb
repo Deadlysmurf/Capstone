{
 "cells": [
  {
   "cell_type": "code",
   "execution_count": 18,
   "metadata": {
    "collapsed": true
   },
   "outputs": [],
   "source": [
    "exec(open(\"../Scripts/Packages.py\").read())\n",
    "exec(open(\"../Scripts/Data_Import.py\").read())\n",
    "target = 'salary'\n",
    "%matplotlib inline"
   ]
  },
  {
   "cell_type": "code",
   "execution_count": 19,
   "metadata": {
    "collapsed": false
   },
   "outputs": [],
   "source": [
    "\n",
    "#Added, Age, Years Played, Country of Birth, First and Last Names, Weight, Height, Bat Hand, Throwing Hand\n",
    "\n",
    "Trim_Master = Master[['playerID','birthYear', 'birthCountry', 'nameFirst','nameLast', 'weight','height','bats','throws','debut']]\n",
    "Data = Salaries.merge(Trim_Master,how='left', left_on='playerID', right_on='playerID')\n",
    "Data['age'] = Data['yearID'] - Data['birthYear']\n",
    "Data['debut'] = pd.to_datetime(Data['debut'])\n",
    "Data['debutYear'] = pd.DatetimeIndex(Data['debut']).year\n",
    "Data['yearsPlayed'] = Data['yearID'] - Data['debutYear']\n",
    "Data = Data.drop(['birthYear', 'debut', 'debutYear'], axis=1)\n",
    "\n",
    "\n",
    "#Adding in the appearance chart\n",
    "Data = pd.merge(Data, Appearances,  how='left', left_on=['yearID','teamID', 'playerID', 'lgID'], right_on = ['yearID','teamID','playerID','lgID'])\n",
    "Data = Data.drop(['G_batting', 'G_defense'], axis=1)\n",
    "\n",
    "\n",
    "#Remove the pitchers and catchers\n",
    "Data = Data[Data[\"G_p\"] == 0]\n",
    "Data = Data[Data[\"G_c\"] == 0]\n",
    "Data = Data.drop([\"G_p\", \"G_c\"], axis=1)\n",
    "\n",
    "\n",
    "#Combining postions to groups\n",
    "Data[Outfield] = Data['G_lf'] + Data['G_cf'] + Data['G_rf']\n",
    "Data[Infield] = Data['G_1b'] + Data['G_2b'] + Data['G_ss'] + Data['G_3b']\n",
    "Data[Pinch] = Data['G_ph'] + Data['G_pr']\n",
    "Data[DH] = Data['G_dh']\n",
    "\n",
    "Data = Data.drop(['G_lf', 'G_cf', 'G_rf', 'G_1b', 'G_2b', 'G_ss', 'G_3b', 'G_ph', 'G_pr', 'G_dh' ], axis=1)\n",
    "\n",
    "\n",
    "#Baseline to games\n",
    "Data[Outfield] = Data[Outfield]/'G_all' \n",
    "Data[Infield] = Data[Infield]/'G_all' \n",
    "Data[Pinch] = Data[Pinch]/'G_all' \n",
    "Data[DH] = Data[DH]/'G_all' \n",
    "\n",
    "#Add fielding stats\n",
    "Data = pd.merge(Data, Fielding,  how='left', left_on=['yearID','teamID', 'playerID', 'lgID'], right_on = ['yearID','teamID','playerID','lgID'])\n",
    "Data = Data.drop(['stint', 'POS', 'PB', 'WP', 'SB', 'CS', 'ZR', 'GS_y'], axis=1)\n",
    "\n",
    "#Converting to the stats to per game\n",
    "Data['Games'] = Data['InnOuts']/3/9\n",
    "Data[['POg','Ag', 'Eg', 'DPg']] = Data[['PO','A', 'E', 'DP']].divide(Data.Games, axis=0).fillna(0)\n",
    "Data = Data.drop(['InnOuts', 'PO','A', 'E', 'DP'], axis=1)\n",
    "\n",
    "\n",
    "#Add Batting stats\n",
    "Data = pd.merge(Data, Batting,  how='left', left_on=['yearID','teamID', 'playerID', 'lgID'], right_on = ['yearID','teamID','playerID','lgID'])\n",
    "Data = Data.drop(['stint', 'G_y'], axis=1)\n",
    "\n",
    "#Adding Calc Stats\n",
    "Data['1B'] = Data['H'].subtract(Data['2B'].subtract(Data['3B'].subtract(Data['HR'])))\n",
    "Data['SLG'] = (Data['1B'].add(Data['2B']*2).add(Data['3B']*3).add(Data['HR']*4)).divide(Data['AB'])\n",
    "Data['OBP'] = (Data['H']+Data['BB']+Data['HBP'])/(Data['AB']+Data['BB']+Data['HBP']+Data['SF'])\n",
    "Data['OPS'] = Data['SLG'] + Data['OBP']\n",
    "\n",
    "\n",
    "#Dropping stats used in SLG, OBP, and OPS\n",
    "Data = Data.drop(['R', 'H', '2B', '3B', 'HR', 'RBI', 'SB','CS', 'BB', 'SO', 'IBB', 'HBP', 'SH', 'SF', 'GIDP'], axis=1)\n",
    "Data = Data.drop(['AB', '1B'], axis=1)\n",
    "\n",
    "#SLG and OBP are highly corrolated to OPS. \n",
    "Data = Data.drop(['SLG', 'OBP'], axis=1)\n",
    "\n",
    "\n",
    "\n",
    "#Remove infs and Nans\n",
    "Data = Data.replace(np.inf, np.nan)\n",
    "Data = Data.replace(np.nan, 0)\n"
   ]
  },
  {
   "cell_type": "code",
   "execution_count": 20,
   "metadata": {
    "collapsed": false
   },
   "outputs": [
    {
     "name": "stderr",
     "output_type": "stream",
     "text": [
      "/Users/Margaret/anaconda3/lib/python3.6/site-packages/scipy/stats/stats.py:250: RuntimeWarning: The input array could not be properly checked for nan values. nan values will be ignored.\n",
      "  \"values. nan values will be ignored.\", RuntimeWarning)\n"
     ]
    },
    {
     "name": "stdout",
     "output_type": "stream",
     "text": [
      "                   Rho         PValue\n",
      "salary        1.000000   0.000000e+00\n",
      "yearsPlayed   0.612581   0.000000e+00\n",
      "age           0.514736   0.000000e+00\n",
      "yearID        0.456065   0.000000e+00\n",
      "GS_x          0.414500   0.000000e+00\n",
      "G_all         0.347149   0.000000e+00\n",
      "Games         0.294453   0.000000e+00\n",
      "G_x           0.272899  4.864127e-301\n",
      "OPS           0.270421  2.001697e-295\n",
      "weight        0.242189  1.365486e-235\n",
      "G_dh          0.146077   2.379946e-85\n",
      "height        0.091940   1.128526e-34\n",
      "G_of          0.060773   5.109246e-16\n",
      "G_1b          0.059076   3.220511e-15\n",
      "DPg           0.048351   1.123692e-10\n",
      "POg           0.042442   1.510947e-08\n",
      "birthCountry -0.023701   1.578323e-03\n",
      "bats         -0.029892   6.727189e-05\n",
      "throws       -0.034100   5.440371e-06\n",
      "G_rf         -0.037205   7.002179e-07\n",
      "G_cf         -0.045386   1.418617e-09\n",
      "Ag           -0.046744   4.526189e-10\n",
      "G_lf         -0.065939   1.372858e-18\n",
      "G_3b         -0.104114   5.004337e-44\n",
      "G_2b         -0.136593   9.150542e-75\n",
      "G_ss         -0.143228   4.300490e-82\n",
      "G_ph         -0.183888  5.828814e-135\n",
      "G_pr         -0.345542   0.000000e+00\n"
     ]
    },
    {
     "data": {
      "image/png": "[encoded data removed]",
      "text/plain": [
       "<matplotlib.figure.Figure at 0x119ebae10>"
      ]
     },
     "metadata": {},
     "output_type": "display_data"
    }
   ],
   "source": [
    "exec(open(\"../Scripts/Correlation.py\").read())"
   ]
  },
  {
   "cell_type": "code",
   "execution_count": 21,
   "metadata": {
    "collapsed": false
   },
   "outputs": [
    {
     "name": "stdout",
     "output_type": "stream",
     "text": [
      "Axes(0.125,0.125;0.62x0.755)\n"
     ]
    },
    {
     "data": {
      "image/png": "[encoded data removed]",
      "text/plain": [
       "<matplotlib.figure.Figure at 0x11b8b0588>"
      ]
     },
     "metadata": {},
     "output_type": "display_data"
    }
   ],
   "source": [
    "print(sns.heatmap(pd.DataFrame(Rho), xticklabels=list(Data), yticklabels=list(Data)))"
   ]
  },
  {
   "cell_type": "code",
   "execution_count": 23,
   "metadata": {
    "collapsed": false
   },
   "outputs": [
    {
     "data": {
      "text/html": [
       "<div>\n",
       "<table border=\"1\" class=\"dataframe\">\n",
       "  <thead>\n",
       "    <tr style=\"text-align: right;\">\n",
       "      <th></th>\n",
       "      <th>yearID</th>\n",
       "      <th>teamID</th>\n",
       "      <th>lgID</th>\n",
       "      <th>playerID</th>\n",
       "      <th>salary</th>\n",
       "      <th>birthCountry</th>\n",
       "      <th>nameFirst</th>\n",
       "      <th>nameLast</th>\n",
       "      <th>weight</th>\n",
       "      <th>height</th>\n",
       "      <th>...</th>\n",
       "      <th>G_dh</th>\n",
       "      <th>G_ph</th>\n",
       "      <th>G_pr</th>\n",
       "      <th>G_x</th>\n",
       "      <th>Games</th>\n",
       "      <th>POg</th>\n",
       "      <th>Ag</th>\n",
       "      <th>Eg</th>\n",
       "      <th>DPg</th>\n",
       "      <th>OPS</th>\n",
       "    </tr>\n",
       "  </thead>\n",
       "  <tbody>\n",
       "    <tr>\n",
       "      <th>0</th>\n",
       "      <td>1985</td>\n",
       "      <td>ATL</td>\n",
       "      <td>NL</td>\n",
       "      <td>chambch01</td>\n",
       "      <td>800000</td>\n",
       "      <td>USA</td>\n",
       "      <td>Chris</td>\n",
       "      <td>Chambliss</td>\n",
       "      <td>195.0</td>\n",
       "      <td>73.0</td>\n",
       "      <td>...</td>\n",
       "      <td>0.0</td>\n",
       "      <td>65.0</td>\n",
       "      <td>0.0</td>\n",
       "      <td>39.0</td>\n",
       "      <td>30.148148</td>\n",
       "      <td>9.917690</td>\n",
       "      <td>0.829238</td>\n",
       "      <td>0.033170</td>\n",
       "      <td>1.028256</td>\n",
       "      <td>0.636290</td>\n",
       "    </tr>\n",
       "    <tr>\n",
       "      <th>1</th>\n",
       "      <td>1985</td>\n",
       "      <td>ATL</td>\n",
       "      <td>NL</td>\n",
       "      <td>harpete01</td>\n",
       "      <td>250000</td>\n",
       "      <td>USA</td>\n",
       "      <td>Terry</td>\n",
       "      <td>Harper</td>\n",
       "      <td>195.0</td>\n",
       "      <td>76.0</td>\n",
       "      <td>...</td>\n",
       "      <td>0.0</td>\n",
       "      <td>13.0</td>\n",
       "      <td>0.0</td>\n",
       "      <td>131.0</td>\n",
       "      <td>122.185185</td>\n",
       "      <td>1.759624</td>\n",
       "      <td>0.081843</td>\n",
       "      <td>0.040921</td>\n",
       "      <td>0.000000</td>\n",
       "      <td>0.741806</td>\n",
       "    </tr>\n",
       "    <tr>\n",
       "      <th>2</th>\n",
       "      <td>1985</td>\n",
       "      <td>ATL</td>\n",
       "      <td>NL</td>\n",
       "      <td>hornebo01</td>\n",
       "      <td>1500000</td>\n",
       "      <td>USA</td>\n",
       "      <td>Bob</td>\n",
       "      <td>Horner</td>\n",
       "      <td>195.0</td>\n",
       "      <td>73.0</td>\n",
       "      <td>...</td>\n",
       "      <td>0.0</td>\n",
       "      <td>5.0</td>\n",
       "      <td>0.0</td>\n",
       "      <td>87.0</td>\n",
       "      <td>82.925926</td>\n",
       "      <td>10.756588</td>\n",
       "      <td>0.699419</td>\n",
       "      <td>0.000000</td>\n",
       "      <td>1.266190</td>\n",
       "      <td>0.844720</td>\n",
       "    </tr>\n",
       "    <tr>\n",
       "      <th>3</th>\n",
       "      <td>1985</td>\n",
       "      <td>ATL</td>\n",
       "      <td>NL</td>\n",
       "      <td>hornebo01</td>\n",
       "      <td>1500000</td>\n",
       "      <td>USA</td>\n",
       "      <td>Bob</td>\n",
       "      <td>Horner</td>\n",
       "      <td>195.0</td>\n",
       "      <td>73.0</td>\n",
       "      <td>...</td>\n",
       "      <td>0.0</td>\n",
       "      <td>5.0</td>\n",
       "      <td>0.0</td>\n",
       "      <td>40.0</td>\n",
       "      <td>35.444444</td>\n",
       "      <td>0.705329</td>\n",
       "      <td>1.721003</td>\n",
       "      <td>0.310345</td>\n",
       "      <td>0.169279</td>\n",
       "      <td>0.844720</td>\n",
       "    </tr>\n",
       "    <tr>\n",
       "      <th>4</th>\n",
       "      <td>1985</td>\n",
       "      <td>ATL</td>\n",
       "      <td>NL</td>\n",
       "      <td>hubbagl01</td>\n",
       "      <td>455000</td>\n",
       "      <td>Germany</td>\n",
       "      <td>Glenn</td>\n",
       "      <td>Hubbard</td>\n",
       "      <td>150.0</td>\n",
       "      <td>69.0</td>\n",
       "      <td>...</td>\n",
       "      <td>0.0</td>\n",
       "      <td>5.0</td>\n",
       "      <td>0.0</td>\n",
       "      <td>140.0</td>\n",
       "      <td>126.851852</td>\n",
       "      <td>2.672409</td>\n",
       "      <td>4.249051</td>\n",
       "      <td>0.078832</td>\n",
       "      <td>1.001168</td>\n",
       "      <td>0.635143</td>\n",
       "    </tr>\n",
       "  </tbody>\n",
       "</table>\n",
       "<p>5 rows × 34 columns</p>\n",
       "</div>"
      ],
      "text/plain": [
       "   yearID teamID lgID   playerID   salary birthCountry nameFirst   nameLast  \\\n",
       "0    1985    ATL   NL  chambch01   800000          USA     Chris  Chambliss   \n",
       "1    1985    ATL   NL  harpete01   250000          USA     Terry     Harper   \n",
       "2    1985    ATL   NL  hornebo01  1500000          USA       Bob     Horner   \n",
       "3    1985    ATL   NL  hornebo01  1500000          USA       Bob     Horner   \n",
       "4    1985    ATL   NL  hubbagl01   455000      Germany     Glenn    Hubbard   \n",
       "\n",
       "   weight  height    ...    G_dh  G_ph  G_pr    G_x       Games        POg  \\\n",
       "0   195.0    73.0    ...     0.0  65.0   0.0   39.0   30.148148   9.917690   \n",
       "1   195.0    76.0    ...     0.0  13.0   0.0  131.0  122.185185   1.759624   \n",
       "2   195.0    73.0    ...     0.0   5.0   0.0   87.0   82.925926  10.756588   \n",
       "3   195.0    73.0    ...     0.0   5.0   0.0   40.0   35.444444   0.705329   \n",
       "4   150.0    69.0    ...     0.0   5.0   0.0  140.0  126.851852   2.672409   \n",
       "\n",
       "         Ag        Eg       DPg       OPS  \n",
       "0  0.829238  0.033170  1.028256  0.636290  \n",
       "1  0.081843  0.040921  0.000000  0.741806  \n",
       "2  0.699419  0.000000  1.266190  0.844720  \n",
       "3  1.721003  0.310345  0.169279  0.844720  \n",
       "4  4.249051  0.078832  1.001168  0.635143  \n",
       "\n",
       "[5 rows x 34 columns]"
      ]
     },
     "execution_count": 23,
     "metadata": {},
     "output_type": "execute_result"
    }
   ],
   "source": [
    "Data.head()"
   ]
  },
  {
   "cell_type": "code",
   "execution_count": null,
   "metadata": {
    "collapsed": true
   },
   "outputs": [],
   "source": []
  }
 ],
 "metadata": {
  "kernelspec": {
   "display_name": "Python 3",
   "language": "python",
   "name": "python3"
  },
  "language_info": {
   "codemirror_mode": {
    "name": "ipython",
    "version": 3
   },
   "file_extension": ".py",
   "mimetype": "text/x-python",
   "name": "python",
   "nbconvert_exporter": "python",
   "pygments_lexer": "ipython3",
   "version": "3.6.0"
  }
 },
 "nbformat": 4,
 "nbformat_minor": 2
}
