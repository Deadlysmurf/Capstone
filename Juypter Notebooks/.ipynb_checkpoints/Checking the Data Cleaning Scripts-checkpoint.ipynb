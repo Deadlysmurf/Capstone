{
 "cells": [
  {
   "cell_type": "code",
   "execution_count": 73,
   "metadata": {
    "collapsed": true
   },
   "outputs": [],
   "source": [
    "exec(open(\"../Scripts/Packages.py\").read())\n",
    "exec(open(\"../Scripts/Data_Import.py\").read())"
   ]
  },
  {
   "cell_type": "code",
   "execution_count": 99,
   "metadata": {
    "collapsed": false
   },
   "outputs": [],
   "source": [
    "\n",
    "#Added, Age, Years Played, Country of Birth, First and Last Names, Weight, Height, Bat Hand, Throwing Hand\n",
    "\n",
    "Trim_Master = Master[['playerID','birthYear', 'birthCountry', 'nameFirst','nameLast', 'weight','height','bats','throws','debut']]\n",
    "Data = Salaries.merge(Trim_Master,how='left', left_on='playerID', right_on='playerID')\n",
    "Data['age'] = Data['yearID'] - Data['birthYear']\n",
    "Data['debut'] = pd.to_datetime(Data['debut'])\n",
    "Data['debutYear'] = pd.DatetimeIndex(Data['debut']).year\n",
    "Data['yearsPlayed'] = Data['yearID'] - Data['debutYear']\n",
    "Data = Data.drop(['birthYear', 'debut', 'debutYear'], axis=1)\n",
    "\n",
    "#Adding in the appearance chart\n",
    "Data = pd.merge(Data, Appearances,  how='left', left_on=['yearID','teamID', 'playerID', 'lgID'], right_on = ['yearID','teamID','playerID','lgID'])\n",
    "Data = Data.drop(['G_batting', 'G_defense'], axis=1)\n",
    "\n",
    "\n",
    "#Remove the pitchers and catchers\n",
    "Data = Data[Data[\"G_p\"] == 0]\n",
    "Data = Data[Data[\"G_c\"] == 0]\n",
    "Data = Data.drop([\"G_p\", \"G_c\"], axis=1)\n",
    "\n",
    "#Add fielding stats\n",
    "Data = pd.merge(Data, Fielding,  how='left', left_on=['yearID','teamID', 'playerID', 'lgID'], right_on = ['yearID','teamID','playerID','lgID'])\n",
    "Data = Data.drop(['stint', 'POS', 'PB', 'WP', 'SB', 'CS', 'ZR', 'GS_y'], axis=1)\n",
    "\n",
    "#Converting to the stats to per game\n",
    "Data['Games'] = Data['InnOuts']/3/9 \n",
    "Data[['POg','Ag', 'Eg', 'DPg']] = Data[['PO','A', 'E', 'DP']].divide(Data.Games, axis=0).fillna(0)\n",
    "Data = Data.drop(['InnOuts', 'PO','A', 'E', 'DP'], axis=1)\n",
    "\n",
    "\n",
    "#Add Batting stats\n",
    "Data = pd.merge(Data, Batting,  how='left', left_on=['yearID','teamID', 'playerID', 'lgID'], right_on = ['yearID','teamID','playerID','lgID'])\n",
    "Data = Data.drop(['stint', 'G_y'], axis=1)\n",
    "\n",
    "#Adding Calc Stats\n",
    "Data['1B'] = Data['H'].subtract(Data['2B'].subtract(Data['3B'].subtract(Data['HR'])))\n",
    "Data['SLG'] = (Data['1B'].add(Data['2B']*2).add(Data['3B']*3).add(Data['HR']*4)).divide(Data['AB'])\n",
    "Data['OBP'] = (Data['H']+Data['BB']+Data['HBP'])/(Data['AB']+Data['BB']+Data['HBP']+Data['SF'])\n",
    "Data['OPS'] = Data['SLG'] + Data['OBP']\n",
    "\n",
    "\n",
    "#Converting to the stats per at Bat\n",
    "Data[['R', 'H', '2B', '3B', 'HR', 'RBI', 'SB','CS', 'BB', 'SO', 'IBB', 'HBP', 'SH', 'SF', 'GIDP']] = Data[['R', 'H', '2B', '3B', 'HR', 'RBI', 'SB','CS', 'BB', 'SO', 'IBB', 'HBP', 'SH', 'SF', 'GIDP']].divide(Data.AB, axis=0).fillna(0)\n",
    "\n",
    "\n",
    "#Remove infs and Nans\n",
    "Data = Data.replace(np.inf, np.nan)\n",
    "Data = Data.replace(np.nan, 0)\n"
   ]
  },
  {
   "cell_type": "code",
   "execution_count": 114,
   "metadata": {
    "collapsed": false
   },
   "outputs": [
    {
     "name": "stdout",
     "output_type": "stream",
     "text": [
      "0        0.002006\n",
      "1        0.000731\n",
      "2        0.000771\n",
      "3        0.000771\n",
      "4        0.000840\n",
      "5        0.000727\n",
      "6        0.000995\n",
      "7        0.000995\n",
      "8        0.001306\n",
      "9        0.001306\n",
      "10       0.000499\n",
      "11       0.000953\n",
      "12       0.001455\n",
      "13       0.001455\n",
      "14       0.001455\n",
      "15       0.001767\n",
      "16       0.003729\n",
      "17       0.002058\n",
      "18       0.002058\n",
      "19       0.000764\n",
      "20       0.000857\n",
      "21       0.000762\n",
      "22       0.000604\n",
      "23       0.001835\n",
      "24       0.001078\n",
      "25       0.001078\n",
      "26       0.001546\n",
      "27       0.001546\n",
      "28       0.000864\n",
      "29       0.000823\n",
      "           ...   \n",
      "17743    0.000948\n",
      "17744    0.000948\n",
      "17745    0.000948\n",
      "17746    0.000571\n",
      "17747    0.003392\n",
      "17748    0.001193\n",
      "17749    0.011387\n",
      "17750    0.001118\n",
      "17751    0.008902\n",
      "17752    0.008902\n",
      "17753    0.008902\n",
      "17754    0.003466\n",
      "17755    0.000541\n",
      "17756    0.000772\n",
      "17757    0.000943\n",
      "17758    0.000943\n",
      "17759    0.000943\n",
      "17760    0.000943\n",
      "17761    0.000943\n",
      "17762    0.001108\n",
      "17763    0.012346\n",
      "17764    0.001261\n",
      "17765    0.001261\n",
      "17766    0.001652\n",
      "17767    0.000646\n",
      "17768    0.002912\n",
      "17769    0.002912\n",
      "17770    0.001040\n",
      "17771    0.001002\n",
      "17772    0.001002\n",
      "Name: OBP, dtype: float64\n"
     ]
    }
   ],
   "source": [
    "\n",
    "Data['OBP'] = (Data['H']+Data['BB']+Data['HBP'])/(Data['AB']+Data['BB']+Data['HBP']+Data['SF'])\n",
    "#                         (H + BB + HBP) / (AB + BB + HBP + SF))\n",
    "#Data[OPS] <- with(Batting.12.13, SLG + OBP)\n",
    "print(Data['OBP'])"
   ]
  },
  {
   "cell_type": "code",
   "execution_count": 100,
   "metadata": {
    "collapsed": false
   },
   "outputs": [
    {
     "data": {
      "text/plain": [
       "yearID               1993\n",
       "teamID                BAL\n",
       "lgID                   AL\n",
       "playerID        alexama02\n",
       "salary             109000\n",
       "birthCountry         D.R.\n",
       "nameFirst           Manny\n",
       "nameLast        Alexander\n",
       "weight                150\n",
       "height                 70\n",
       "bats                    R\n",
       "throws                  R\n",
       "age                    22\n",
       "yearsPlayed             1\n",
       "G_all                   3\n",
       "GS_x                    0\n",
       "G_1b                    0\n",
       "G_2b                    0\n",
       "G_3b                    0\n",
       "G_ss                    0\n",
       "G_lf                    0\n",
       "G_cf                    0\n",
       "G_rf                    0\n",
       "G_of                    0\n",
       "G_dh                    1\n",
       "G_ph                    0\n",
       "G_pr                    3\n",
       "G_x                     0\n",
       "Games                   0\n",
       "POg                     0\n",
       "Ag                      0\n",
       "Eg                      0\n",
       "DPg                     0\n",
       "AB                      0\n",
       "R                       0\n",
       "H                       0\n",
       "2B                      0\n",
       "3B                      0\n",
       "HR                      0\n",
       "RBI                     0\n",
       "SB                      0\n",
       "CS                      0\n",
       "BB                      0\n",
       "SO                      0\n",
       "IBB                     0\n",
       "HBP                     0\n",
       "SH                      0\n",
       "SF                      0\n",
       "GIDP                    0\n",
       "Name: 3974, dtype: object"
      ]
     },
     "execution_count": 100,
     "metadata": {},
     "output_type": "execute_result"
    }
   ],
   "source": [
    "Data.ix[3974]"
   ]
  },
  {
   "cell_type": "code",
   "execution_count": null,
   "metadata": {
    "collapsed": true
   },
   "outputs": [],
   "source": []
  }
 ],
 "metadata": {
  "kernelspec": {
   "display_name": "Python 3",
   "language": "python",
   "name": "python3"
  },
  "language_info": {
   "codemirror_mode": {
    "name": "ipython",
    "version": 3
   },
   "file_extension": ".py",
   "mimetype": "text/x-python",
   "name": "python",
   "nbconvert_exporter": "python",
   "pygments_lexer": "ipython3",
   "version": "3.6.0"
  }
 },
 "nbformat": 4,
 "nbformat_minor": 2
}
