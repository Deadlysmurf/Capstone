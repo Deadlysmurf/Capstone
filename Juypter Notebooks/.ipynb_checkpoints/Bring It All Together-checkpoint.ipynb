{
 "cells": [
  {
   "cell_type": "markdown",
   "metadata": {},
   "source": [
    "# Final Report for Capstone Project for Ryerson CKME136\n",
    "#### Margaret Anderson Kilfoil"
   ]
  },
  {
   "cell_type": "markdown",
   "metadata": {},
   "source": [
    "### Step 0: Prepare Enviroment"
   ]
  },
  {
   "cell_type": "code",
   "execution_count": 87,
   "metadata": {
    "collapsed": false
   },
   "outputs": [],
   "source": [
    "#Opening the requires packages\n",
    "exec(open(\"../Scripts/Packages.py\").read())\n",
    "\n",
    "#Set the Alpha value for the analysis\n",
    "alpha_value = 0.01\n",
    "\n",
    "#Set Target Variable\n",
    "target = 'salary'"
   ]
  },
  {
   "cell_type": "markdown",
   "metadata": {},
   "source": [
    "### Step 1: Data Collection"
   ]
  },
  {
   "cell_type": "code",
   "execution_count": 88,
   "metadata": {
    "collapsed": true
   },
   "outputs": [],
   "source": [
    "#Import the Data Files\n",
    "exec(open(\"../Scripts/Data_Import.py\").read())"
   ]
  },
  {
   "cell_type": "markdown",
   "metadata": {},
   "source": [
    "### Step 2: Data Cleaning/Structuring"
   ]
  },
  {
   "cell_type": "code",
   "execution_count": 89,
   "metadata": {
    "collapsed": false
   },
   "outputs": [],
   "source": [
    "#Mapping together the files and calculating fields\n",
    "exec(open(\"../Scripts/Data_Cleaning.py\").read())\n"
   ]
  },
  {
   "cell_type": "code",
   "execution_count": 90,
   "metadata": {
    "collapsed": false
   },
   "outputs": [
    {
     "name": "stdout",
     "output_type": "stream",
     "text": [
      "['teamID', 'lgID', 'playerID', 'birthCountry', 'nameFirst', 'nameLast', 'bats', 'throws']\n"
     ]
    }
   ],
   "source": [
    "#Check the string variables\n",
    "print(list(Data.select_dtypes(include=['O']).columns))\n",
    "\n",
    "#Select what variables to dummy \n",
    "To_Dummy = ['teamID','lgID','birthCountry','bats','throws']\n",
    "\n",
    "#Dummy the Variables\n",
    "exec(open(\"../Scripts/Dummy_Strings.py\").read())\n"
   ]
  },
  {
   "cell_type": "markdown",
   "metadata": {},
   "source": [
    "### Step 3: Exploratory Data Analysis"
   ]
  },
  {
   "cell_type": "code",
   "execution_count": null,
   "metadata": {
    "collapsed": true
   },
   "outputs": [],
   "source": []
  },
  {
   "cell_type": "markdown",
   "metadata": {},
   "source": [
    "### Step 4: Correlation Analysis"
   ]
  },
  {
   "cell_type": "code",
   "execution_count": 91,
   "metadata": {
    "collapsed": false
   },
   "outputs": [
    {
     "name": "stdout",
     "output_type": "stream",
     "text": [
      "                               Rho         PValue\n",
      "salary                    1.000000   0.000000e+00\n",
      "yearsPlayed               0.644989   0.000000e+00\n",
      "age                       0.537899   0.000000e+00\n",
      "yearID                    0.453940   0.000000e+00\n",
      "GS                        0.213476  2.260877e-261\n",
      "G_all                     0.194990  1.426686e-217\n",
      "G_defense                 0.188552  2.529313e-203\n",
      "weight                    0.170110  2.536380e-165\n",
      "G_batting                 0.159317  5.335202e-145\n",
      "G_dh                      0.073996   2.170373e-32\n",
      "birthCountry - Japan      0.073633   4.342490e-32\n",
      "teamID - LAA              0.067242   5.028066e-27\n",
      "teamID - NYA              0.059410   1.927410e-21\n",
      "teamID - WAS              0.051471   1.775469e-16\n",
      "teamID - BOS              0.049511   2.330605e-15\n",
      "teamID - ARI              0.048630   7.181700e-15\n",
      "height                    0.044883   6.915792e-13\n",
      "birthCountry - Cuba       0.044858   7.121310e-13\n",
      "teamID - MIL              0.037035   3.132111e-09\n",
      "teamID - LAN              0.030620   9.695963e-07\n",
      "teamID - MIA              0.029930   1.690616e-06\n",
      "birthCountry - D.R.       0.022434   3.332887e-04\n",
      "birthCountry - Venezuela  0.022373   3.459144e-04\n",
      "bats - L                  0.018293   3.438461e-03\n",
      "birthCountry - Colombia   0.017777   4.468549e-03\n",
      "teamID - SFN              0.017727   4.582157e-03\n",
      "birthCountry - Jamaica    0.017477   5.188250e-03\n",
      "teamID - NYN              0.017169   6.037036e-03\n",
      "teamID - CHN              0.016972   6.641965e-03\n",
      "birthCountry - Honduras  -0.017211   5.915334e-03\n",
      "birthCountry - France    -0.018513   3.068887e-03\n",
      "bats - R                 -0.020466   1.063829e-03\n",
      "teamID - KCA             -0.021629   5.418943e-04\n",
      "birthCountry - V.I.      -0.021833   4.797957e-04\n",
      "teamID - SDN             -0.021854   4.736423e-04\n",
      "teamID - MIN             -0.022685   2.854389e-04\n",
      "G_p                      -0.026063   3.064925e-05\n",
      "teamID - OAK             -0.028643   4.620268e-06\n",
      "teamID - PIT             -0.042951   6.347463e-12\n",
      "teamID - FLO             -0.044993   6.083044e-13\n",
      "G_ph                     -0.053908   6.300364e-18\n",
      "teamID - CAL             -0.055775   4.408143e-19\n",
      "birthCountry - USA       -0.059985   7.904362e-22\n",
      "G_cf                     -0.065521   9.702466e-26\n",
      "G_rf                     -0.067366   4.053675e-27\n",
      "teamID - ML4             -0.079773   2.199728e-37\n",
      "G_ss                     -0.080105   1.105168e-37\n",
      "G_3b                     -0.083105   1.953089e-40\n",
      "G_2b                     -0.083810   4.259120e-41\n",
      "G_lf                     -0.085199   2.037203e-42\n",
      "G_c                      -0.085335   1.508249e-42\n",
      "teamID - MON             -0.094819   3.697616e-52\n",
      "G_pr                     -0.191026  9.731858e-209\n"
     ]
    }
   ],
   "source": [
    "#Correlated the values, and strips out any variables that are below the Alpha value\n",
    "exec(open(\"../Scripts/Correlation.py\").read())"
   ]
  },
  {
   "cell_type": "markdown",
   "metadata": {},
   "source": [
    "### Step 5: Regression Analysis"
   ]
  },
  {
   "cell_type": "code",
   "execution_count": 94,
   "metadata": {
    "collapsed": false
   },
   "outputs": [
    {
     "name": "stdout",
     "output_type": "stream",
     "text": [
      "Explained Variance: -0.05\n",
      "r^2: -0.05\n",
      "Mean squared error: 2131653135571.50\n"
     ]
    }
   ],
   "source": [
    "#Spilt the Data into Training and Testing Sets (50% in each set)\n",
    "exec(open(\"../Scripts/SplitToTrainTest.py\").read())\n",
    "\n",
    "#Create and apply linear regression model\n",
    "exec(open(\"../Scripts/LinReg.py\").read())"
   ]
  }
 ],
 "metadata": {
  "kernelspec": {
   "display_name": "Python 3",
   "language": "python",
   "name": "python3"
  },
  "language_info": {
   "codemirror_mode": {
    "name": "ipython",
    "version": 3
   },
   "file_extension": ".py",
   "mimetype": "text/x-python",
   "name": "python",
   "nbconvert_exporter": "python",
   "pygments_lexer": "ipython3",
   "version": "3.6.0"
  }
 },
 "nbformat": 4,
 "nbformat_minor": 2
}
