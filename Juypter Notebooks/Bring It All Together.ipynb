{
 "cells": [
  {
   "cell_type": "markdown",
   "metadata": {},
   "source": [
    "# Final Report for Capstone Project for Ryerson CKME136\n",
    "#### Margaret Anderson Kilfoil"
   ]
  },
  {
   "cell_type": "markdown",
   "metadata": {},
   "source": [
    "### Step 0: Prepare Enviroment"
   ]
  },
  {
   "cell_type": "code",
   "execution_count": 240,
   "metadata": {
    "collapsed": false
   },
   "outputs": [],
   "source": [
    "#Opening the requires packages\n",
    "exec(open(\"../Scripts/Packages.py\").read())\n",
    "\n",
    "#Set the Alpha value for the analysis\n",
    "alpha_value = 0.01\n",
    "\n",
    "#Set Target Variable\n",
    "target = 'salary'\n",
    "\n",
    "#Variables\n",
    "PCAvar = 20"
   ]
  },
  {
   "cell_type": "markdown",
   "metadata": {},
   "source": [
    "### Step 1: Data Collection"
   ]
  },
  {
   "cell_type": "code",
   "execution_count": 241,
   "metadata": {
    "collapsed": true
   },
   "outputs": [],
   "source": [
    "#Import the Data Files\n",
    "exec(open(\"../Scripts/Data_Import.py\").read())"
   ]
  },
  {
   "cell_type": "markdown",
   "metadata": {},
   "source": [
    "### Step 2: Data Cleaning/Structuring"
   ]
  },
  {
   "cell_type": "code",
   "execution_count": 242,
   "metadata": {
    "collapsed": false
   },
   "outputs": [],
   "source": [
    "#Mapping together the files and calculating fields\n",
    "exec(open(\"../Scripts/Data_Cleaning.py\").read())"
   ]
  },
  {
   "cell_type": "code",
   "execution_count": 243,
   "metadata": {
    "collapsed": false
   },
   "outputs": [
    {
     "name": "stdout",
     "output_type": "stream",
     "text": [
      "['teamID', 'lgID', 'playerID', 'birthCountry', 'nameFirst', 'nameLast', 'bats', 'throws']\n"
     ]
    }
   ],
   "source": [
    "#Check the string variables\n",
    "print(list(Data.select_dtypes(include=['O']).columns))\n",
    "\n",
    "#Select what variables to dummy \n",
    "To_Dummy = ['teamID','lgID','birthCountry','bats','throws']\n",
    "Data = Data.drop(['playerID','nameFirst', 'nameLast'], axis=1)\n",
    "#Dummy the Variables\n",
    "exec(open(\"../Scripts/Dummy_Strings.py\").read())"
   ]
  },
  {
   "cell_type": "markdown",
   "metadata": {},
   "source": [
    "### Step 3: Exploratory Data Analysis"
   ]
  },
  {
   "cell_type": "code",
   "execution_count": null,
   "metadata": {
    "collapsed": false
   },
   "outputs": [],
   "source": []
  },
  {
   "cell_type": "markdown",
   "metadata": {},
   "source": [
    "### Step 4: Correlation Analysis"
   ]
  },
  {
   "cell_type": "code",
   "execution_count": 244,
   "metadata": {
    "collapsed": false
   },
   "outputs": [
    {
     "name": "stdout",
     "output_type": "stream",
     "text": [
      "                               Rho         PValue\n",
      "salary                    1.000000   0.000000e+00\n",
      "yearsPlayed               0.612581   0.000000e+00\n",
      "age                       0.514736   0.000000e+00\n",
      "yearID                    0.456065   0.000000e+00\n",
      "AB                        0.414563   0.000000e+00\n",
      "GS_x                      0.414500   0.000000e+00\n",
      "1B                        0.372356   0.000000e+00\n",
      "G_all                     0.347149   0.000000e+00\n",
      "Games                     0.294453   0.000000e+00\n",
      "G_x                       0.272899  4.864127e-301\n",
      "OPS                       0.270421  2.001697e-295\n",
      "HR                        0.256788  1.352733e-265\n",
      "SLG                       0.256349  1.154100e-264\n",
      "OBP                       0.247565  2.076439e-246\n",
      "RBI                       0.242593  2.143203e-236\n",
      "weight                    0.242189  1.365486e-235\n",
      "IBB                       0.239317  6.378866e-230\n",
      "H                         0.210834  9.773848e-178\n",
      "2B                        0.182294  1.260192e-132\n",
      "BB                        0.164054  1.906221e-107\n",
      "SF                        0.155365   1.970845e-96\n",
      "R                         0.147466   5.815696e-87\n",
      "G_dh                      0.146077   2.379946e-85\n",
      "HBP                       0.138139   1.934560e-76\n",
      "GIDP                      0.123670   1.615381e-61\n",
      "height                    0.091940   1.128526e-34\n",
      "teamID - LAA              0.065832   1.559120e-18\n",
      "birthCountry - Japan      0.064767   5.479552e-18\n",
      "birthCountry - Cuba       0.063421   2.607904e-17\n",
      "G_of                      0.060773   5.109246e-16\n",
      "...                            ...            ...\n",
      "teamID - CHN              0.020043   7.537388e-03\n",
      "birthCountry - Honduras  -0.020715   5.749509e-03\n",
      "birthCountry - France    -0.023962   1.399804e-03\n",
      "birthCountry - Australia -0.024108   1.308334e-03\n",
      "teamID - KCA             -0.026758   3.602274e-04\n",
      "birthCountry - Belgium   -0.026945   3.273455e-04\n",
      "teamID - MIN             -0.026990   3.199946e-04\n",
      "teamID - SDN             -0.029213   9.815135e-05\n",
      "teamID - PIT             -0.029826   6.981140e-05\n",
      "birthCountry - USA       -0.030028   6.232267e-05\n",
      "throws - R               -0.034100   5.440371e-06\n",
      "birthCountry - Mexico    -0.034931   3.194758e-06\n",
      "G_rf                     -0.037205   7.002179e-07\n",
      "teamID - OAK             -0.037296   6.577292e-07\n",
      "teamID - FLO             -0.039884   1.044067e-07\n",
      "bats - R                 -0.041666   2.747952e-08\n",
      "CS                       -0.044247   3.606383e-09\n",
      "G_cf                     -0.045386   1.418617e-09\n",
      "Ag                       -0.046744   4.526189e-10\n",
      "teamID - CAL             -0.061657   1.918763e-16\n",
      "G_lf                     -0.065939   1.372858e-18\n",
      "SO                       -0.068012   1.117361e-19\n",
      "teamID - ML4             -0.073147   1.607232e-22\n",
      "teamID - MON             -0.102506   1.004364e-42\n",
      "G_3b                     -0.104114   5.004337e-44\n",
      "G_2b                     -0.136593   9.150542e-75\n",
      "G_ss                     -0.143228   4.300490e-82\n",
      "G_ph                     -0.183888  5.828814e-135\n",
      "SH                       -0.236416  2.860535e-224\n",
      "G_pr                     -0.345542   0.000000e+00\n",
      "\n",
      "[75 rows x 2 columns]\n"
     ]
    }
   ],
   "source": [
    "#Conduct Principal Component Analysis\n",
    "#exec(open(\"../Scripts/PCA.py\").read())\n",
    "\n",
    "#Correlated the values, and strips out any variables that are below the Alpha value\n",
    "exec(open(\"../Scripts/Correlation.py\").read())"
   ]
  },
  {
   "cell_type": "markdown",
   "metadata": {},
   "source": [
    "### Step 5: Regression Analysis"
   ]
  },
  {
   "cell_type": "code",
   "execution_count": 245,
   "metadata": {
    "collapsed": false
   },
   "outputs": [
    {
     "name": "stdout",
     "output_type": "stream",
     "text": [
      "Explained Variance: -0.07\n",
      "r^2: -0.07\n",
      "Mean squared error: 2029505731889.62\n"
     ]
    }
   ],
   "source": [
    "#Spilt the Data into Training and Testing Sets (50% in each set)\n",
    "exec(open(\"../Scripts/SplitToTrainTest.py\").read())\n",
    "\n",
    "#Create and apply linear regression model\n",
    "exec(open(\"../Scripts/LinReg.py\").read())"
   ]
  },
  {
   "cell_type": "code",
   "execution_count": null,
   "metadata": {
    "collapsed": true
   },
   "outputs": [],
   "source": []
  },
  {
   "cell_type": "code",
   "execution_count": null,
   "metadata": {
    "collapsed": true
   },
   "outputs": [],
   "source": []
  }
 ],
 "metadata": {
  "kernelspec": {
   "display_name": "Python 3",
   "language": "python",
   "name": "python3"
  },
  "language_info": {
   "codemirror_mode": {
    "name": "ipython",
    "version": 3
   },
   "file_extension": ".py",
   "mimetype": "text/x-python",
   "name": "python",
   "nbconvert_exporter": "python",
   "pygments_lexer": "ipython3",
   "version": "3.6.0"
  }
 },
 "nbformat": 4,
 "nbformat_minor": 2
}
