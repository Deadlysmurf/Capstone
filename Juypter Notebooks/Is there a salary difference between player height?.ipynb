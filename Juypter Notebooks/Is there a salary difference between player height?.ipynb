{
 "cells": [
  {
   "cell_type": "markdown",
   "metadata": {},
   "source": [
    "# Is there a salary difference between player height?"
   ]
  },
  {
   "cell_type": "markdown",
   "metadata": {},
   "source": [
    "## Import the required packages, data, and clean the data"
   ]
  },
  {
   "cell_type": "code",
   "execution_count": 1,
   "metadata": {
    "collapsed": false
   },
   "outputs": [],
   "source": [
    "exec(open(\"../Scripts/Packages.py\").read())\n",
    "exec(open(\"../Scripts/Data_Import.py\").read())\n",
    "exec(open(\"../Scripts/Data_Cleaning.py\").read())"
   ]
  },
  {
   "cell_type": "markdown",
   "metadata": {},
   "source": [
    "Data organization for this research question"
   ]
  },
  {
   "cell_type": "code",
   "execution_count": 2,
   "metadata": {
    "collapsed": false
   },
   "outputs": [],
   "source": [
    "Analysis = Salary_Analysis.loc[:, ['height', 'salary']]\n",
    "Analysis['salary'] = Analysis['salary']/1000000\n",
    "Pivot = Analysis.pivot(columns='height', values='salary')"
   ]
  },
  {
   "cell_type": "markdown",
   "metadata": {},
   "source": [
    "## Graph the data to manually examine the differences in the group"
   ]
  },
  {
   "cell_type": "code",
   "execution_count": 3,
   "metadata": {
    "collapsed": false
   },
   "outputs": [
    {
     "data": {
      "image/png": "[encoded data removed]",
      "text/plain": [
       "<matplotlib.figure.Figure at 0x10a567550>"
      ]
     },
     "metadata": {},
     "output_type": "display_data"
    }
   ],
   "source": [
    "Analysis.boxplot(by = 'height')\n",
    "plt.title('Salary by Player Height')\n",
    "plt.xlabel('Player Height')\n",
    "plt.ylabel('Salary ($M USD)')\n",
    "plt.show()"
   ]
  },
  {
   "cell_type": "markdown",
   "metadata": {},
   "source": [
    "## Use statistical testing to confirm the variance"
   ]
  },
  {
   "cell_type": "markdown",
   "metadata": {},
   "source": [
    "NB: This probably should be using a friedman test as the variables are not really independent"
   ]
  },
  {
   "cell_type": "markdown",
   "metadata": {},
   "source": [
    "Set the significance value before any testing. "
   ]
  },
  {
   "cell_type": "code",
   "execution_count": 4,
   "metadata": {
    "collapsed": true
   },
   "outputs": [],
   "source": [
    "alpha_value = 0.001\n",
    "independent = True"
   ]
  },
  {
   "cell_type": "markdown",
   "metadata": {},
   "source": [
    "Combined Statistical Testing Workflow"
   ]
  },
  {
   "cell_type": "code",
   "execution_count": 5,
   "metadata": {
    "collapsed": false
   },
   "outputs": [
    {
     "name": "stdout",
     "output_type": "stream",
     "text": [
      "Comparing Standard Deviations\n",
      "\n",
      "T-statistic: 162468.067956\n",
      "P-Value: 0.0\n",
      "  \n",
      "Reject NULL hypothesis - Significant differences exist between the standard deviations of the groups.\n",
      "\n",
      "\n",
      "Checking for Normality\n",
      "\n",
      "P-value: 2.60606364293e-12\n",
      "  \n",
      "Reject NULL hypothesis - Not normal distribution\n",
      "\n",
      "\n",
      "ANOVA Testing\n",
      "\n",
      "Can one use ANOVA?\n",
      "  \n",
      "Independent:  True\n",
      "Normal:  False\n",
      "StdDevEq:  False\n",
      "  \n",
      "The assumptions to use ANOVA have not been met.\n",
      "\n",
      "Kruskal-Wallis Testing\n",
      "\n",
      "H-statistic: 92.3418262307\n",
      "P-Value: 2.28417713011e-12\n",
      "\n",
      "Reject NULL hypothesis - Significant differences exist between groups.\n"
     ]
    }
   ],
   "source": [
    "exec(open(\"../Scripts/Data_Testing/Statistical_Tests.py\").read())"
   ]
  },
  {
   "cell_type": "markdown",
   "metadata": {},
   "source": [
    "If variable is statistically significant, append to analysis for further investigation"
   ]
  },
  {
   "cell_type": "code",
   "execution_count": 6,
   "metadata": {
    "collapsed": true
   },
   "outputs": [],
   "source": [
    "if Sig == True: \n",
    "    columns = list(Analysis)\n",
    "    Capstone_csv = pd.read_csv(\"../Data/Capstone.csv\")\n",
    "    Capstone_csv[columns] = Salary_Analysis[columns]\n",
    "    Capstone_csv.to_csv(\"../Data/Capstone.csv\", index = False)"
   ]
  }
 ],
 "metadata": {
  "kernelspec": {
   "display_name": "Python 3",
   "language": "python",
   "name": "python3"
  },
  "language_info": {
   "codemirror_mode": {
    "name": "ipython",
    "version": 3
   },
   "file_extension": ".py",
   "mimetype": "text/x-python",
   "name": "python",
   "nbconvert_exporter": "python",
   "pygments_lexer": "ipython3",
   "version": "3.5.2"
  }
 },
 "nbformat": 4,
 "nbformat_minor": 1
}
