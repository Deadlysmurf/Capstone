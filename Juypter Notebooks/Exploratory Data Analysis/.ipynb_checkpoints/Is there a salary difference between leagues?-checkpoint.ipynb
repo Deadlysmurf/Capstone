{
 "cells": [
  {
   "cell_type": "markdown",
   "metadata": {},
   "source": [
    "# Is there a salary difference between leagues?"
   ]
  },
  {
   "cell_type": "markdown",
   "metadata": {},
   "source": [
    "## Import the required packages, data, and clean the data"
   ]
  },
  {
   "cell_type": "code",
   "execution_count": 1,
   "metadata": {
    "collapsed": false
   },
   "outputs": [],
   "source": [
    "exec(open(\"../Scripts/Packages.py\").read())\n",
    "exec(open(\"../Scripts/Data_Import.py\").read())\n",
    "exec(open(\"../Scripts/Data_Cleaning.py\").read())"
   ]
  },
  {
   "cell_type": "markdown",
   "metadata": {},
   "source": [
    "Data organization for this research question"
   ]
  },
  {
   "cell_type": "code",
   "execution_count": 2,
   "metadata": {
    "collapsed": false
   },
   "outputs": [],
   "source": [
    "Analysis = Salary_Analysis.loc[:, ['lgID', 'salary']]\n",
    "Analysis['salary'] = Analysis['salary']/1000000\n",
    "Pivot = Analysis.pivot(columns='lgID', values='salary')"
   ]
  },
  {
   "cell_type": "markdown",
   "metadata": {},
   "source": [
    "## Graph the data to manually examine the differences in the group"
   ]
  },
  {
   "cell_type": "code",
   "execution_count": 3,
   "metadata": {
    "collapsed": false
   },
   "outputs": [
    {
     "data": {
      "image/png": "[encoded data removed]",
      "text/plain": [
       "<matplotlib.figure.Figure at 0x10b4facc0>"
      ]
     },
     "metadata": {},
     "output_type": "display_data"
    }
   ],
   "source": [
    "Analysis.boxplot(by = 'lgID')\n",
    "plt.title('Salary by Leauge')\n",
    "plt.xlabel('League')\n",
    "plt.ylabel('Salary ($M USD)')\n",
    "plt.show()"
   ]
  },
  {
   "cell_type": "markdown",
   "metadata": {},
   "source": [
    "## Use statistical testing to confirm the variance"
   ]
  },
  {
   "cell_type": "markdown",
   "metadata": {},
   "source": [
    "NB: This probably should be using a friedman test as the variables are not really independent"
   ]
  },
  {
   "cell_type": "markdown",
   "metadata": {},
   "source": [
    "Set the significance value before any testing. "
   ]
  },
  {
   "cell_type": "code",
   "execution_count": 4,
   "metadata": {
    "collapsed": true
   },
   "outputs": [],
   "source": [
    "alpha_value = 0.001\n",
    "independent = True"
   ]
  },
  {
   "cell_type": "markdown",
   "metadata": {},
   "source": [
    "Combined Statistical Testing Workflow"
   ]
  },
  {
   "cell_type": "code",
   "execution_count": 5,
   "metadata": {
    "collapsed": false
   },
   "outputs": [
    {
     "name": "stdout",
     "output_type": "stream",
     "text": [
      "Comparing Standard Deviations\n",
      "\n",
      "T-statistic: 76.3643913455\n",
      "P-Value: 2.35866225393e-18\n",
      "  \n",
      "Reject NULL hypothesis - Significant differences exist between the standard deviations of the groups.\n",
      "\n",
      "\n",
      "Checking for Normality\n",
      "\n",
      "P-value: 2.60606364293e-12\n",
      "  \n",
      "Reject NULL hypothesis - Not normal distribution\n",
      "\n",
      "\n",
      "ANOVA Testing\n",
      "\n",
      "Can one use ANOVA?\n",
      "  \n",
      "Independent:  True\n",
      "Normal:  False\n",
      "StdDevEq:  False\n",
      "  \n",
      "The assumptions to use ANOVA have not been met.\n",
      "\n",
      "Kruskal-Wallis Testing\n",
      "\n",
      "H-statistic: 0.0489234746703\n",
      "P-Value: 0.82494720827\n",
      "\n",
      "Accept NULL hypothesis - No significant difference between groups.\n"
     ]
    }
   ],
   "source": [
    "exec(open(\"../Scripts/Data_Testing/Statistical_Tests.py\").read())"
   ]
  },
  {
   "cell_type": "markdown",
   "metadata": {},
   "source": [
    "If variable is statistically significant, append to analysis for further investigation"
   ]
  },
  {
   "cell_type": "code",
   "execution_count": 6,
   "metadata": {
    "collapsed": true
   },
   "outputs": [],
   "source": [
    "if Sig == True: \n",
    "    columns = list(CoB_Analysis)\n",
    "    Capstone_csv = pd.read_csv(\"../Data/Capstone.csv\")\n",
    "    Capstone_csv[columns] = Salary_Analysis[columns]\n",
    "    Capstone_csv = Capstone_csv.drop(['Unnamed: 0'], axis=1)\n",
    "    Capstone_csv.to_csv(\"../Data/Capstone.csv\", index = False)"
   ]
  }
 ],
 "metadata": {
  "kernelspec": {
   "display_name": "Python 3",
   "language": "python",
   "name": "python3"
  },
  "language_info": {
   "codemirror_mode": {
    "name": "ipython",
    "version": 3
   },
   "file_extension": ".py",
   "mimetype": "text/x-python",
   "name": "python",
   "nbconvert_exporter": "python",
   "pygments_lexer": "ipython3",
   "version": "3.6.0"
  }
 },
 "nbformat": 4,
 "nbformat_minor": 1
}
